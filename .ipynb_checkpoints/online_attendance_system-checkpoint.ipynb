{
 "cells": [
  {
   "cell_type": "code",
   "execution_count": 2,
   "metadata": {},
   "outputs": [],
   "source": [
    "# Importing the libraries\n",
    "import cv2\n",
    "import matplotlib.pyplot as plt"
   ]
  },
  {
   "cell_type": "code",
   "execution_count": 3,
   "metadata": {},
   "outputs": [],
   "source": [
    "# Creating objects to detect the face\n",
    "face_cascade = cv2.CascadeClassifier(cv2.data.haarcascades +'haarcascade_frontalface_default.xml')"
   ]
  },
  {
   "cell_type": "code",
   "execution_count": 26,
   "metadata": {},
   "outputs": [],
   "source": [
    "# reading video and detecting people in it\n",
    "cap = cv2.VideoCapture(0)\n",
    "ret, img = cap.read()\n",
    "\n",
    "while True:\n",
    "    \n",
    "    #read each frame of the video and convert it to gray\n",
    "    ret, img = cap.read()\n",
    "    gray = cv2.cvtColor(img, cv2.COLOR_BGR2GRAY)\n",
    "    \n",
    "    # Find faces in image using classifier\n",
    "    faces = face_cascade.detectMultiScale(gray, 1.1, 10)\n",
    "    \n",
    "    # For every face found \n",
    "    for (x,y,w,h) in faces:\n",
    "        \n",
    "        # Coordinates of face region\n",
    "        face_w = w\n",
    "        face_h = h\n",
    "        face_x1 = x\n",
    "        face_x2 = face_x1+face_w\n",
    "        face_y1 = y\n",
    "        face_y2 = face_y1 + face_h\n",
    "        \n",
    "    # Draw rectangle around the faces\n",
    "    \n",
    "    i=0\n",
    "    for (x, y, w, h) in faces:\n",
    "        if i==0:\n",
    "            cv2.rectangle(img, (x, y), (x+w, y+h), (0, 0, 255), 2)  \n",
    "            font = cv2.FONT_HERSHEY_SIMPLEX\n",
    "            cv2.putText(img,'name',(x,y-2), font, 0.7, (0,255,0)) \n",
    "        if i==1:\n",
    "            cv2.rectangle(img, (x, y), (x+w, y+h), (0, 0, 255), 2)  \n",
    "            font = cv2.FONT_HERSHEY_SIMPLEX\n",
    "            cv2.putText(img,'onae',(x,y-2), font, 0.7, (0,255,0)) \n",
    "        i=i+1\n",
    "    #display image\n",
    "    cv2.imshow('img',img) \n",
    "\n",
    "    #if user pressed 'q' break\n",
    "    if cv2.waitKey(1) == ord('q'): # \n",
    "        break;\n",
    "\n",
    "cap.release() #turn off camera \n",
    "cv2.destroyAllWindows() #close all windows"
   ]
  },
  {
   "cell_type": "code",
   "execution_count": 28,
   "metadata": {},
   "outputs": [],
   "source": [
    "import numpy as np\n",
    "import pandas as pd\n",
    "import os"
   ]
  },
  {
   "cell_type": "markdown",
   "metadata": {},
   "source": [
    "### Reading and preprocessing images"
   ]
  },
  {
   "cell_type": "code",
   "execution_count": 42,
   "metadata": {},
   "outputs": [],
   "source": [
    "\n",
    "images = []\n",
    "labels = []\n",
    "indice = 0\n",
    "pa = 'C:\\\\Users\\\\rajpu\\\\Desktop\\\\dataset'\n",
    "for file_name in os.listdir(pa):\n",
    "    if file_name == 'abhi':\n",
    "        label = 1\n",
    "        path = \"\".join((pa,\"/\",file_name))\n",
    "        for j,i in enumerate(os.listdir(path)):\n",
    "            if i.endswith(\".jpg\"):\n",
    "                img = cv2.imread(path+\"/\"+i)\n",
    "                \n",
    "                # Resizing the image into required shape\n",
    "                img =  cv2.resize(img, (224,224), interpolation = cv2.INTER_AREA)\n",
    "                img = img/224\n",
    "                \n",
    "                images.append(img)\n",
    "                labels.append(label)\n",
    "                indice = indice + 1\n",
    "    if file_name == 'meet':\n",
    "        label = 2\n",
    "        path = \"\".join((pa,\"/\",file_name))\n",
    "        for j,i in enumerate(os.listdir(path)):\n",
    "            if i.endswith(\".jpg\"):\n",
    "                img = cv2.imread(path+\"/\"+i)\n",
    "                \n",
    "                # Resizing the image into required shape\n",
    "                img =  cv2.resize(img, (224,224), interpolation = cv2.INTER_AREA)\n",
    "                img = img/224\n",
    "                \n",
    "                images.append(img)\n",
    "                labels.append(label)\n",
    "                indice = indice + 1\n",
    "    if file_name == 'paras':\n",
    "        label = 3\n",
    "        path = \"\".join((pa,\"/\",file_name))\n",
    "        for j,i in enumerate(os.listdir(path)):\n",
    "            if i.endswith(\".jpg\"):\n",
    "                img = cv2.imread(path+\"/\"+i)\n",
    "                \n",
    "                # Resizing the image into required shape\n",
    "                img =  cv2.resize(img, (224,224), interpolation = cv2.INTER_AREA)\n",
    "                img = img/224\n",
    "                \n",
    "                images.append(img)\n",
    "                labels.append(label)\n",
    "                indice = indice + 1\n",
    "    if file_name == 'prashant':\n",
    "        label = 4\n",
    "        path = \"\".join((pa,\"/\",file_name))\n",
    "        for j,i in enumerate(os.listdir(path)):\n",
    "            if i.endswith(\".jpg\"):\n",
    "                img = cv2.imread(path+\"/\"+i)\n",
    "                \n",
    "                # Resizing the image into required shape\n",
    "                img =  cv2.resize(img, (224,224), interpolation = cv2.INTER_AREA)\n",
    "                img = img/224\n",
    "                \n",
    "                images.append(img)\n",
    "                labels.append(label)\n",
    "                indice = indice + 1\n",
    "    if file_name == 'sahil':\n",
    "        label = 5\n",
    "        path = \"\".join((pa,\"/\",file_name))\n",
    "        for j,i in enumerate(os.listdir(path)):\n",
    "            if i.endswith(\".jpg\"):\n",
    "                img = cv2.imread(path+\"/\"+i)\n",
    "                \n",
    "                # Resizing the image into required shape\n",
    "                img =  cv2.resize(img, (224,224), interpolation = cv2.INTER_AREA)\n",
    "                img = img/224\n",
    "                \n",
    "                images.append(img)\n",
    "                labels.append(label)\n",
    "                indice = indice + 1"
   ]
  },
  {
   "cell_type": "code",
   "execution_count": 54,
   "metadata": {},
   "outputs": [],
   "source": [
    "# Shuffling the dataset\n",
    "import random\n",
    "# defining a random value for shuffle\n",
    "def myfunction():\n",
    "    return 0.5\n",
    "\n",
    "random.shuffle(images, myfunction)\n",
    "random.shuffle(labels, myfunction)\n"
   ]
  },
  {
   "cell_type": "code",
   "execution_count": null,
   "metadata": {},
   "outputs": [],
   "source": []
  },
  {
   "cell_type": "code",
   "execution_count": null,
   "metadata": {},
   "outputs": [],
   "source": []
  },
  {
   "cell_type": "code",
   "execution_count": null,
   "metadata": {},
   "outputs": [],
   "source": []
  }
 ],
 "metadata": {
  "kernelspec": {
   "display_name": "Python 3",
   "language": "python",
   "name": "python3"
  },
  "language_info": {
   "codemirror_mode": {
    "name": "ipython",
    "version": 3
   },
   "file_extension": ".py",
   "mimetype": "text/x-python",
   "name": "python",
   "nbconvert_exporter": "python",
   "pygments_lexer": "ipython3",
   "version": "3.7.7"
  }
 },
 "nbformat": 4,
 "nbformat_minor": 4
}
