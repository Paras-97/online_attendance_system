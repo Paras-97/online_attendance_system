{
 "cells": [
  {
   "cell_type": "code",
   "execution_count": 2,
   "metadata": {},
   "outputs": [],
   "source": [
    "# Importing the libraries\n",
    "import cv2\n",
    "import matplotlib.pyplot as plt"
   ]
  },
  {
   "cell_type": "code",
   "execution_count": 3,
   "metadata": {},
   "outputs": [],
   "source": [
    "# Creating objects to detect the face\n",
    "face_cascade = cv2.CascadeClassifier(cv2.data.haarcascades +'haarcascade_frontalface_default.xml')"
   ]
  },
  {
   "cell_type": "code",
   "execution_count": 26,
   "metadata": {},
   "outputs": [],
   "source": [
    "# reading video and detecting people in it\n",
    "cap = cv2.VideoCapture(0)\n",
    "ret, img = cap.read()\n",
    "\n",
    "while True:\n",
    "    \n",
    "    #read each frame of the video and convert it to gray\n",
    "    ret, img = cap.read()\n",
    "    gray = cv2.cvtColor(img, cv2.COLOR_BGR2GRAY)\n",
    "    \n",
    "    # Find faces in image using classifier\n",
    "    faces = face_cascade.detectMultiScale(gray, 1.1, 10)\n",
    "    \n",
    "    # For every face found \n",
    "    for (x,y,w,h) in faces:\n",
    "        \n",
    "        # Coordinates of face region\n",
    "        face_w = w\n",
    "        face_h = h\n",
    "        face_x1 = x\n",
    "        face_x2 = face_x1+face_w\n",
    "        face_y1 = y\n",
    "        face_y2 = face_y1 + face_h\n",
    "        \n",
    "    # Draw rectangle around the faces\n",
    "    \n",
    "    i=0\n",
    "    for (x, y, w, h) in faces:\n",
    "        if i==0:\n",
    "            cv2.rectangle(img, (x, y), (x+w, y+h), (0, 0, 255), 2)  \n",
    "            font = cv2.FONT_HERSHEY_SIMPLEX\n",
    "            cv2.putText(img,'name',(x,y-2), font, 0.7, (0,255,0)) \n",
    "        if i==1:\n",
    "            cv2.rectangle(img, (x, y), (x+w, y+h), (0, 0, 255), 2)  \n",
    "            font = cv2.FONT_HERSHEY_SIMPLEX\n",
    "            cv2.putText(img,'onae',(x,y-2), font, 0.7, (0,255,0)) \n",
    "        i=i+1\n",
    "    #display image\n",
    "    cv2.imshow('img',img) \n",
    "\n",
    "    #if user pressed 'q' break\n",
    "    if cv2.waitKey(1) == ord('q'): # \n",
    "        break;\n",
    "\n",
    "cap.release() #turn off camera \n",
    "cv2.destroyAllWindows() #close all windows"
   ]
  },
  {
   "cell_type": "code",
   "execution_count": null,
   "metadata": {},
   "outputs": [],
   "source": []
  }
 ],
 "metadata": {
  "kernelspec": {
   "display_name": "Python 3",
   "language": "python",
   "name": "python3"
  },
  "language_info": {
   "codemirror_mode": {
    "name": "ipython",
    "version": 3
   },
   "file_extension": ".py",
   "mimetype": "text/x-python",
   "name": "python",
   "nbconvert_exporter": "python",
   "pygments_lexer": "ipython3",
   "version": "3.7.7"
  }
 },
 "nbformat": 4,
 "nbformat_minor": 4
}
