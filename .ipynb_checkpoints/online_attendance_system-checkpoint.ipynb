{
 "cells": [
  {
   "cell_type": "code",
   "execution_count": 1,
   "metadata": {},
   "outputs": [],
   "source": [
    "# Importing the libraries\n",
    "import cv2\n",
    "import matplotlib.pyplot as plt\n",
    "import numpy as np\n",
    "import pandas as pd\n",
    "import os"
   ]
  },
  {
   "cell_type": "code",
   "execution_count": 2,
   "metadata": {},
   "outputs": [],
   "source": [
    "# Creating objects to detect the face\n",
    "face_cascade = cv2.CascadeClassifier(cv2.data.haarcascades +'haarcascade_frontalface_default.xml')"
   ]
  },
  {
   "cell_type": "markdown",
   "metadata": {},
   "source": [
    "### Reading and preprocessing images"
   ]
  },
  {
   "cell_type": "code",
   "execution_count": 3,
   "metadata": {},
   "outputs": [],
   "source": [
    "def detect_face(img):\n",
    "    gray = cv2.cvtColor(img, cv2.COLOR_BGR2GRAY)\n",
    "    \n",
    "    # Find faces in image using classifier\n",
    "    faces = face_cascade.detectMultiScale(gray, 1.5, 5)\n",
    "    \n",
    "    # For every face found \n",
    "    if len(faces)==0:\n",
    "        return (0,img)\n",
    "    for (x,y,w,h) in faces:\n",
    "        face_img = img[y:y + h, x:x + w]\n",
    "    return (1,face_img)\n"
   ]
  },
  {
   "cell_type": "code",
   "execution_count": 4,
   "metadata": {},
   "outputs": [],
   "source": [
    "\n",
    "\n",
    "images = []\n",
    "labels = []\n",
    "indice = 0\n",
    "boolean = 1\n",
    "pa = 'C:\\\\Users\\\\rajpu\\\\Desktop\\\\dataset'\n",
    "for file_name in os.listdir(pa):\n",
    "\n",
    "    if file_name == 'abhi':\n",
    "        label = 0\n",
    "        path = \"\".join((pa,\"/\",file_name))\n",
    "        for j,i in enumerate(os.listdir(path)):\n",
    "            if i.endswith(\".jpg\"):\n",
    "                img = cv2.imread(path+\"/\"+i)\n",
    "                boolean,img =  detect_face(img)\n",
    "                if boolean ==0:\n",
    "                    continue\n",
    "                # Resizing the image into required shape\n",
    "                img =  cv2.resize(img, (256,256), interpolation = cv2.INTER_AREA)\n",
    "                images.append(img)\n",
    "                labels.append(label)\n",
    "                indice = indice + 1\n",
    "\n",
    "    elif file_name == 'meet':\n",
    "        label = 1\n",
    "        path = \"\".join((pa,\"/\",file_name))\n",
    "        for j,i in enumerate(os.listdir(path)):\n",
    "            if i.endswith(\".jpg\"):\n",
    "                img = cv2.imread(path+\"/\"+i)\n",
    "                boolean,img =  detect_face(img)\n",
    "                if boolean ==0:\n",
    "                    continue\n",
    "                # Resizing the image into required shape\n",
    "                img =  cv2.resize(img, (256,256), interpolation = cv2.INTER_AREA)\n",
    "                images.append(img)\n",
    "                labels.append(label)\n",
    "                indice = indice + 1\n",
    "\n",
    "    elif file_name == 'paras':\n",
    "        label = 2\n",
    "        path = \"\".join((pa,\"/\",file_name))\n",
    "        for j,i in enumerate(os.listdir(path)):\n",
    "            if i.endswith(\".jpg\"):\n",
    "                img = cv2.imread(path+\"/\"+i)\n",
    "                boolean,img =  detect_face(img)\n",
    "                if boolean ==0:\n",
    "                    continue\n",
    "                # Resizing the image into required shape\n",
    "                img =  cv2.resize(img, (256,256), interpolation = cv2.INTER_AREA)\n",
    "                images.append(img)\n",
    "                labels.append(label)\n",
    "                indice = indice + 1\n",
    "\n",
    "    elif file_name == 'prashant':\n",
    "        label = 3\n",
    "        path = \"\".join((pa,\"/\",file_name))\n",
    "        for j,i in enumerate(os.listdir(path)):\n",
    "            if i.endswith(\".jpg\"):\n",
    "                img = cv2.imread(path+\"/\"+i)\n",
    "                boolean,img =  detect_face(img)\n",
    "                if boolean ==0:\n",
    "                    continue\n",
    "                # Resizing the image into required shape\n",
    "                img =  cv2.resize(img, (256,256), interpolation = cv2.INTER_AREA)\n",
    "                images.append(img)\n",
    "                labels.append(label)\n",
    "                indice = indice + 1\n",
    "\n",
    "    elif file_name == 'sahil':\n",
    "        label = 4\n",
    "        path = \"\".join((pa,\"/\",file_name))\n",
    "        for j,i in enumerate(os.listdir(path)):\n",
    "            if i.endswith(\".jpg\"):\n",
    "                img = cv2.imread(path+\"/\"+i)\n",
    "                boolean,img =  detect_face(img)\n",
    "                if boolean ==0:\n",
    "                    continue\n",
    "                # Resizing the image into required shape\n",
    "                img =  cv2.resize(img, (256,256), interpolation = cv2.INTER_AREA)                \n",
    "                images.append(img)\n",
    "                labels.append(label)\n",
    "                indice = indice + 1\n"
   ]
  },
  {
   "cell_type": "code",
   "execution_count": 5,
   "metadata": {},
   "outputs": [
    {
     "data": {
      "text/plain": [
       "158"
      ]
     },
     "execution_count": 5,
     "metadata": {},
     "output_type": "execute_result"
    }
   ],
   "source": [
    "indice"
   ]
  },
  {
   "cell_type": "code",
   "execution_count": 6,
   "metadata": {},
   "outputs": [
    {
     "data": {
      "text/plain": [
       "1"
      ]
     },
     "execution_count": 6,
     "metadata": {},
     "output_type": "execute_result"
    },
    {
     "data": {
      "image/png": "[encoded data removed]",
      "text/plain": [
       "<Figure size 432x288 with 1 Axes>"
      ]
     },
     "metadata": {
      "needs_background": "light"
     },
     "output_type": "display_data"
    }
   ],
   "source": [
    "plt.imshow(images[48])\n",
    "labels[48]"
   ]
  },
  {
   "cell_type": "code",
   "execution_count": 7,
   "metadata": {},
   "outputs": [],
   "source": [
    "# Shuffling the dataset\n",
    "import random\n",
    "# defining a random value for shuffle\n",
    "def myfunction():\n",
    "    return 0.5\n",
    "\n",
    "random.shuffle(images, myfunction)\n",
    "random.shuffle(labels, myfunction)\n"
   ]
  },
  {
   "cell_type": "code",
   "execution_count": 8,
   "metadata": {},
   "outputs": [],
   "source": [
    "# Reshaping images\n",
    "\n",
    "n=len(images)\n",
    "\n",
    "data_images = np.zeros((n,256,256,3),dtype=np.float32)\n",
    "data_labels = np.zeros((n),dtype=np.float32)\n",
    "\n",
    "i = 0\n",
    "for item in range(len(images)):\n",
    "    data_images[i,:,:,:] = images[item]/255\n",
    "    data_labels[i] = labels[item]\n",
    "    i = i+1"
   ]
  },
  {
   "cell_type": "code",
   "execution_count": 9,
   "metadata": {},
   "outputs": [
    {
     "name": "stdout",
     "output_type": "stream",
     "text": [
      "0.0\n"
     ]
    },
    {
     "data": {
      "image/png": "[encoded data removed]",
      "text/plain": [
       "<Figure size 432x288 with 1 Axes>"
      ]
     },
     "metadata": {
      "needs_background": "light"
     },
     "output_type": "display_data"
    }
   ],
   "source": [
    "plt.imshow(data_images[20])\n",
    "print(data_labels[10])"
   ]
  },
  {
   "cell_type": "code",
   "execution_count": 10,
   "metadata": {},
   "outputs": [],
   "source": [
    "# Splitting the dataset into training and testing\n",
    "\n",
    "from sklearn.model_selection import train_test_split\n",
    "X_train,X_test, y_train, y_test = train_test_split(data_images, data_labels, test_size=0.2, random_state=42)\n"
   ]
  },
  {
   "cell_type": "markdown",
   "metadata": {},
   "source": [
    "## Creating Model"
   ]
  },
  {
   "cell_type": "code",
   "execution_count": 11,
   "metadata": {},
   "outputs": [
    {
     "name": "stderr",
     "output_type": "stream",
     "text": [
      "Using TensorFlow backend.\n"
     ]
    }
   ],
   "source": [
    "\n",
    "import tensorflow as tf\n",
    "\n",
    "from tensorflow.keras import models, layers\n",
    "from tensorflow.keras.layers import Dense, Flatten, BatchNormalization, Activation, UpSampling2D\n",
    "from keras.layers.convolutional import Conv2D, MaxPooling2D\n",
    "from keras.constraints import maxnorm\n",
    "from keras.utils import np_utils\n",
    "from keras.utils import to_categorical"
   ]
  },
  {
   "cell_type": "code",
   "execution_count": 12,
   "metadata": {},
   "outputs": [
    {
     "name": "stdout",
     "output_type": "stream",
     "text": [
      "Model: \"sequential\"\n",
      "_________________________________________________________________\n",
      "Layer (type)                 Output Shape              Param #   \n",
      "=================================================================\n",
      "conv2d (Conv2D)              (None, 254, 254, 32)      896       \n",
      "_________________________________________________________________\n",
      "max_pooling2d (MaxPooling2D) (None, 127, 127, 32)      0         \n",
      "_________________________________________________________________\n",
      "conv2d_1 (Conv2D)            (None, 125, 125, 64)      18496     \n",
      "_________________________________________________________________\n",
      "max_pooling2d_1 (MaxPooling2 (None, 62, 62, 64)        0         \n",
      "_________________________________________________________________\n",
      "conv2d_2 (Conv2D)            (None, 60, 60, 128)       73856     \n",
      "_________________________________________________________________\n",
      "flatten (Flatten)            (None, 460800)            0         \n",
      "_________________________________________________________________\n",
      "dense (Dense)                (None, 64)                29491264  \n",
      "_________________________________________________________________\n",
      "dense_1 (Dense)              (None, 5)                 325       \n",
      "=================================================================\n",
      "Total params: 29,584,837\n",
      "Trainable params: 29,584,837\n",
      "Non-trainable params: 0\n",
      "_________________________________________________________________\n"
     ]
    }
   ],
   "source": [
    "model = models.Sequential()\n",
    "model.add(layers.Conv2D(32, (3, 3), activation='relu', input_shape=(256, 256, 3)))\n",
    "model.add(layers.MaxPooling2D((2, 2)))\n",
    "model.add(layers.Conv2D(64, (3, 3), activation='relu'))\n",
    "model.add(layers.MaxPooling2D((2, 2)))\n",
    "model.add(layers.Conv2D(128, (3, 3), activation='relu'))\n",
    "model.add(layers.Flatten())\n",
    "model.add(layers.Dense(64, activation='relu'))\n",
    "model.add(layers.Dense(5))\n",
    "model.summary()"
   ]
  },
  {
   "cell_type": "code",
   "execution_count": 13,
   "metadata": {},
   "outputs": [],
   "source": [
    "model.compile(optimizer='adam',\n",
    "              loss=tf.keras.losses.SparseCategoricalCrossentropy(from_logits=True),\n",
    "              metrics=['accuracy'])"
   ]
  },
  {
   "cell_type": "code",
   "execution_count": 14,
   "metadata": {},
   "outputs": [
    {
     "name": "stdout",
     "output_type": "stream",
     "text": [
      "Epoch 1/5\n",
      "20/20 [==============================] - 8s 266ms/step - loss: 4.2687 - accuracy: 0.3911 - val_loss: 1.1891 - val_accuracy: 0.6552\n",
      "Epoch 2/5\n",
      "20/20 [==============================] - 5s 237ms/step - loss: 1.1227 - accuracy: 0.5685 - val_loss: 0.7518 - val_accuracy: 0.7241\n",
      "Epoch 3/5\n",
      "20/20 [==============================] - 5s 242ms/step - loss: 0.4426 - accuracy: 0.8464 - val_loss: 0.4050 - val_accuracy: 0.8966\n",
      "Epoch 4/5\n",
      "20/20 [==============================] - 5s 242ms/step - loss: 0.1014 - accuracy: 0.9980 - val_loss: 0.2010 - val_accuracy: 0.9310\n",
      "Epoch 5/5\n",
      "20/20 [==============================] - 5s 241ms/step - loss: 0.0448 - accuracy: 0.9990 - val_loss: 0.4738 - val_accuracy: 0.8621\n"
     ]
    },
    {
     "data": {
      "text/plain": [
       "<tensorflow.python.keras.callbacks.History at 0x1999e863608>"
      ]
     },
     "execution_count": 14,
     "metadata": {},
     "output_type": "execute_result"
    }
   ],
   "source": [
    "model.fit(X_train, y_train, batch_size=5, epochs=5, validation_split=0.23)"
   ]
  },
  {
   "cell_type": "code",
   "execution_count": 15,
   "metadata": {},
   "outputs": [],
   "source": [
    "y_pred = model.predict(X_test, batch_size = 5 )\n",
    "y_pred = list(y_pred)"
   ]
  },
  {
   "cell_type": "code",
   "execution_count": 16,
   "metadata": {},
   "outputs": [],
   "source": [
    "y_output = []\n",
    "for i in range(len(y_pred)):\n",
    "    max_val = max(y_pred[i])\n",
    "    max_val_ind = list(y_pred[i]).index(max_val)\n",
    "    y_output.append(max_val_ind)\n"
   ]
  },
  {
   "cell_type": "code",
   "execution_count": null,
   "metadata": {},
   "outputs": [],
   "source": []
  },
  {
   "cell_type": "markdown",
   "metadata": {},
   "source": [
    "## Predicting the faces in live video feed"
   ]
  },
  {
   "cell_type": "code",
   "execution_count": 84,
   "metadata": {},
   "outputs": [
    {
     "name": "stdout",
     "output_type": "stream",
     "text": [
      "['Paras']\n",
      "Online:  {'2021/9/9 22:1': ['Paras']}\n",
      "offline:  {'2021/9/9 22:1': ['Abhi', 'Meet', 'Prashant', 'Sahil']}\n",
      "['Paras']\n",
      "Online:  {'2021/9/9 22:1': ['Paras']}\n",
      "offline:  {'2021/9/9 22:1': ['Abhi', 'Meet', 'Prashant', 'Sahil']}\n",
      "['Meet']\n",
      "Online:  {'2021/9/9 22:1': ['Meet']}\n",
      "offline:  {'2021/9/9 22:1': ['Abhi', 'Paras', 'Prashant', 'Sahil']}\n",
      "['Meet']\n",
      "Online:  {'2021/9/9 22:1': ['Meet']}\n",
      "offline:  {'2021/9/9 22:1': ['Abhi', 'Paras', 'Prashant', 'Sahil']}\n",
      "['Meet']\n",
      "Online:  {'2021/9/9 22:1': ['Meet']}\n",
      "offline:  {'2021/9/9 22:1': ['Abhi', 'Paras', 'Prashant', 'Sahil']}\n",
      "[]\n",
      "Online:  {'2021/9/9 22:1': []}\n",
      "offline:  {'2021/9/9 22:1': ['Abhi', 'Meet', 'Paras', 'Prashant', 'Sahil']}\n",
      "[]\n",
      "Online:  {'2021/9/9 22:1': []}\n",
      "offline:  {'2021/9/9 22:1': ['Abhi', 'Meet', 'Paras', 'Prashant', 'Sahil']}\n",
      "[]\n",
      "Online:  {'2021/9/9 22:1': []}\n",
      "offline:  {'2021/9/9 22:1': ['Abhi', 'Meet', 'Paras', 'Prashant', 'Sahil']}\n",
      "[]\n",
      "Online:  {'2021/9/9 22:1': []}\n",
      "offline:  {'2021/9/9 22:1': ['Abhi', 'Meet', 'Paras', 'Prashant', 'Sahil']}\n",
      "[]\n",
      "Online:  {'2021/9/9 22:1': []}\n",
      "offline:  {'2021/9/9 22:1': ['Abhi', 'Meet', 'Paras', 'Prashant', 'Sahil']}\n",
      "[]\n",
      "Online:  {'2021/9/9 22:1': []}\n",
      "offline:  {'2021/9/9 22:1': ['Abhi', 'Meet', 'Paras', 'Prashant', 'Sahil']}\n",
      "[]\n",
      "Online:  {'2021/9/9 22:1': []}\n",
      "offline:  {'2021/9/9 22:1': ['Abhi', 'Meet', 'Paras', 'Prashant', 'Sahil']}\n",
      "[]\n",
      "Online:  {'2021/9/9 22:1': []}\n",
      "offline:  {'2021/9/9 22:1': ['Abhi', 'Meet', 'Paras', 'Prashant', 'Sahil']}\n",
      "[]\n",
      "Online:  {'2021/9/9 22:1': []}\n",
      "offline:  {'2021/9/9 22:1': ['Abhi', 'Meet', 'Paras', 'Prashant', 'Sahil']}\n",
      "[]\n",
      "Online:  {'2021/9/9 22:1': []}\n",
      "offline:  {'2021/9/9 22:1': ['Abhi', 'Meet', 'Paras', 'Prashant', 'Sahil']}\n",
      "[]\n",
      "Online:  {'2021/9/9 22:1': []}\n",
      "offline:  {'2021/9/9 22:1': ['Abhi', 'Meet', 'Paras', 'Prashant', 'Sahil']}\n",
      "[]\n",
      "Online:  {'2021/9/9 22:1': []}\n",
      "offline:  {'2021/9/9 22:1': ['Abhi', 'Meet', 'Paras', 'Prashant', 'Sahil']}\n",
      "[]\n",
      "Online:  {'2021/9/9 22:1': []}\n",
      "offline:  {'2021/9/9 22:1': ['Abhi', 'Meet', 'Paras', 'Prashant', 'Sahil']}\n",
      "[]\n",
      "Online:  {'2021/9/9 22:1': []}\n",
      "offline:  {'2021/9/9 22:1': ['Abhi', 'Meet', 'Paras', 'Prashant', 'Sahil']}\n",
      "[]\n",
      "Online:  {'2021/9/9 22:1': []}\n",
      "offline:  {'2021/9/9 22:1': ['Abhi', 'Meet', 'Paras', 'Prashant', 'Sahil']}\n",
      "[]\n",
      "Online:  {'2021/9/9 22:1': []}\n",
      "offline:  {'2021/9/9 22:1': ['Abhi', 'Meet', 'Paras', 'Prashant', 'Sahil']}\n",
      "[]\n",
      "Online:  {'2021/9/9 22:1': []}\n",
      "offline:  {'2021/9/9 22:1': ['Abhi', 'Meet', 'Paras', 'Prashant', 'Sahil']}\n",
      "[]\n",
      "Online:  {'2021/9/9 22:1': []}\n",
      "offline:  {'2021/9/9 22:1': ['Abhi', 'Meet', 'Paras', 'Prashant', 'Sahil']}\n",
      "[]\n",
      "Online:  {'2021/9/9 22:1': []}\n",
      "offline:  {'2021/9/9 22:1': ['Abhi', 'Meet', 'Paras', 'Prashant', 'Sahil']}\n",
      "[]\n",
      "Online:  {'2021/9/9 22:1': []}\n",
      "offline:  {'2021/9/9 22:1': ['Abhi', 'Meet', 'Paras', 'Prashant', 'Sahil']}\n",
      "[]\n",
      "Online:  {'2021/9/9 22:1': []}\n",
      "offline:  {'2021/9/9 22:1': ['Abhi', 'Meet', 'Paras', 'Prashant', 'Sahil']}\n",
      "[]\n",
      "Online:  {'2021/9/9 22:1': []}\n",
      "offline:  {'2021/9/9 22:1': ['Abhi', 'Meet', 'Paras', 'Prashant', 'Sahil']}\n",
      "[]\n",
      "Online:  {'2021/9/9 22:1': []}\n",
      "offline:  {'2021/9/9 22:1': ['Abhi', 'Meet', 'Paras', 'Prashant', 'Sahil']}\n",
      "[]\n",
      "Online:  {'2021/9/9 22:1': []}\n",
      "offline:  {'2021/9/9 22:1': ['Abhi', 'Meet', 'Paras', 'Prashant', 'Sahil']}\n",
      "[]\n",
      "Online:  {'2021/9/9 22:1': []}\n",
      "offline:  {'2021/9/9 22:1': ['Abhi', 'Meet', 'Paras', 'Prashant', 'Sahil']}\n",
      "[]\n",
      "Online:  {'2021/9/9 22:1': []}\n",
      "offline:  {'2021/9/9 22:1': ['Abhi', 'Meet', 'Paras', 'Prashant', 'Sahil']}\n",
      "[]\n",
      "Online:  {'2021/9/9 22:1': []}\n",
      "offline:  {'2021/9/9 22:1': ['Abhi', 'Meet', 'Paras', 'Prashant', 'Sahil']}\n",
      "[]\n",
      "Online:  {'2021/9/9 22:1': []}\n",
      "offline:  {'2021/9/9 22:1': ['Abhi', 'Meet', 'Paras', 'Prashant', 'Sahil']}\n",
      "[]\n",
      "Online:  {'2021/9/9 22:1': []}\n",
      "offline:  {'2021/9/9 22:1': ['Abhi', 'Meet', 'Paras', 'Prashant', 'Sahil']}\n",
      "[]\n",
      "Online:  {'2021/9/9 22:1': []}\n",
      "offline:  {'2021/9/9 22:1': ['Abhi', 'Meet', 'Paras', 'Prashant', 'Sahil']}\n",
      "[]\n",
      "Online:  {'2021/9/9 22:1': []}\n",
      "offline:  {'2021/9/9 22:1': ['Abhi', 'Meet', 'Paras', 'Prashant', 'Sahil']}\n",
      "[]\n",
      "Online:  {'2021/9/9 22:1': []}\n",
      "offline:  {'2021/9/9 22:1': ['Abhi', 'Meet', 'Paras', 'Prashant', 'Sahil']}\n",
      "[]\n",
      "Online:  {'2021/9/9 22:1': []}\n",
      "offline:  {'2021/9/9 22:1': ['Abhi', 'Meet', 'Paras', 'Prashant', 'Sahil']}\n",
      "[]\n",
      "Online:  {'2021/9/9 22:1': []}\n",
      "offline:  {'2021/9/9 22:1': ['Abhi', 'Meet', 'Paras', 'Prashant', 'Sahil']}\n",
      "[]\n",
      "Online:  {'2021/9/9 22:1': []}\n",
      "offline:  {'2021/9/9 22:1': ['Abhi', 'Meet', 'Paras', 'Prashant', 'Sahil']}\n",
      "[]\n",
      "Online:  {'2021/9/9 22:1': []}\n",
      "offline:  {'2021/9/9 22:1': ['Abhi', 'Meet', 'Paras', 'Prashant', 'Sahil']}\n",
      "[]\n",
      "Online:  {'2021/9/9 22:1': []}\n",
      "offline:  {'2021/9/9 22:1': ['Abhi', 'Meet', 'Paras', 'Prashant', 'Sahil']}\n",
      "[]\n",
      "Online:  {'2021/9/9 22:1': []}\n",
      "offline:  {'2021/9/9 22:1': ['Abhi', 'Meet', 'Paras', 'Prashant', 'Sahil']}\n",
      "[]\n",
      "Online:  {'2021/9/9 22:1': []}\n",
      "offline:  {'2021/9/9 22:1': ['Abhi', 'Meet', 'Paras', 'Prashant', 'Sahil']}\n",
      "[]\n",
      "Online:  {'2021/9/9 22:1': []}\n",
      "offline:  {'2021/9/9 22:1': ['Abhi', 'Meet', 'Paras', 'Prashant', 'Sahil']}\n",
      "[]\n",
      "Online:  {'2021/9/9 22:1': []}\n",
      "offline:  {'2021/9/9 22:1': ['Abhi', 'Meet', 'Paras', 'Prashant', 'Sahil']}\n",
      "[]\n",
      "Online:  {'2021/9/9 22:1': []}\n",
      "offline:  {'2021/9/9 22:1': ['Abhi', 'Meet', 'Paras', 'Prashant', 'Sahil']}\n",
      "[]\n",
      "Online:  {'2021/9/9 22:1': []}\n",
      "offline:  {'2021/9/9 22:1': ['Abhi', 'Meet', 'Paras', 'Prashant', 'Sahil']}\n",
      "[]\n",
      "Online:  {'2021/9/9 22:1': []}\n",
      "offline:  {'2021/9/9 22:1': ['Abhi', 'Meet', 'Paras', 'Prashant', 'Sahil']}\n",
      "[]\n",
      "Online:  {'2021/9/9 22:1': []}\n",
      "offline:  {'2021/9/9 22:1': ['Abhi', 'Meet', 'Paras', 'Prashant', 'Sahil']}\n",
      "[]\n",
      "Online:  {'2021/9/9 22:1': []}\n",
      "offline:  {'2021/9/9 22:1': ['Abhi', 'Meet', 'Paras', 'Prashant', 'Sahil']}\n",
      "[]\n",
      "Online:  {'2021/9/9 22:1': []}\n",
      "offline:  {'2021/9/9 22:1': ['Abhi', 'Meet', 'Paras', 'Prashant', 'Sahil']}\n",
      "[]\n",
      "Online:  {'2021/9/9 22:1': []}\n",
      "offline:  {'2021/9/9 22:1': ['Abhi', 'Meet', 'Paras', 'Prashant', 'Sahil']}\n",
      "[]\n",
      "Online:  {'2021/9/9 22:1': []}\n",
      "offline:  {'2021/9/9 22:1': ['Abhi', 'Meet', 'Paras', 'Prashant', 'Sahil']}\n",
      "[]\n",
      "Online:  {'2021/9/9 22:1': []}\n",
      "offline:  {'2021/9/9 22:1': ['Abhi', 'Meet', 'Paras', 'Prashant', 'Sahil']}\n",
      "[]\n",
      "Online:  {'2021/9/9 22:1': []}\n",
      "offline:  {'2021/9/9 22:1': ['Abhi', 'Meet', 'Paras', 'Prashant', 'Sahil']}\n",
      "[]\n",
      "Online:  {'2021/9/9 22:1': []}\n",
      "offline:  {'2021/9/9 22:1': ['Abhi', 'Meet', 'Paras', 'Prashant', 'Sahil']}\n",
      "[]\n",
      "Online:  {'2021/9/9 22:1': []}\n",
      "offline:  {'2021/9/9 22:1': ['Abhi', 'Meet', 'Paras', 'Prashant', 'Sahil']}\n",
      "[]\n",
      "Online:  {'2021/9/9 22:1': []}\n",
      "offline:  {'2021/9/9 22:1': ['Abhi', 'Meet', 'Paras', 'Prashant', 'Sahil']}\n",
      "[]\n",
      "Online:  {'2021/9/9 22:1': []}\n",
      "offline:  {'2021/9/9 22:1': ['Abhi', 'Meet', 'Paras', 'Prashant', 'Sahil']}\n",
      "[]\n",
      "Online:  {'2021/9/9 22:1': []}\n",
      "offline:  {'2021/9/9 22:1': ['Abhi', 'Meet', 'Paras', 'Prashant', 'Sahil']}\n",
      "[]\n",
      "Online:  {'2021/9/9 22:1': []}\n",
      "offline:  {'2021/9/9 22:1': ['Abhi', 'Meet', 'Paras', 'Prashant', 'Sahil']}\n",
      "[]\n",
      "Online:  {'2021/9/9 22:1': []}\n",
      "offline:  {'2021/9/9 22:1': ['Abhi', 'Meet', 'Paras', 'Prashant', 'Sahil']}\n",
      "[]\n",
      "Online:  {'2021/9/9 22:1': []}\n",
      "offline:  {'2021/9/9 22:1': ['Abhi', 'Meet', 'Paras', 'Prashant', 'Sahil']}\n",
      "[]\n",
      "Online:  {'2021/9/9 22:1': []}\n",
      "offline:  {'2021/9/9 22:1': ['Abhi', 'Meet', 'Paras', 'Prashant', 'Sahil']}\n",
      "[]\n",
      "Online:  {'2021/9/9 22:1': []}\n",
      "offline:  {'2021/9/9 22:1': ['Abhi', 'Meet', 'Paras', 'Prashant', 'Sahil']}\n",
      "[]\n",
      "Online:  {'2021/9/9 22:1': []}\n",
      "offline:  {'2021/9/9 22:1': ['Abhi', 'Meet', 'Paras', 'Prashant', 'Sahil']}\n",
      "[]\n",
      "Online:  {'2021/9/9 22:1': []}\n",
      "offline:  {'2021/9/9 22:1': ['Abhi', 'Meet', 'Paras', 'Prashant', 'Sahil']}\n",
      "[]\n",
      "Online:  {'2021/9/9 22:1': []}\n",
      "offline:  {'2021/9/9 22:1': ['Abhi', 'Meet', 'Paras', 'Prashant', 'Sahil']}\n",
      "[]\n",
      "Online:  {'2021/9/9 22:1': []}\n",
      "offline:  {'2021/9/9 22:1': ['Abhi', 'Meet', 'Paras', 'Prashant', 'Sahil']}\n",
      "[]\n",
      "Online:  {'2021/9/9 22:1': []}\n",
      "offline:  {'2021/9/9 22:1': ['Abhi', 'Meet', 'Paras', 'Prashant', 'Sahil']}\n",
      "[]\n",
      "Online:  {'2021/9/9 22:1': []}\n",
      "offline:  {'2021/9/9 22:1': ['Abhi', 'Meet', 'Paras', 'Prashant', 'Sahil']}\n",
      "[]\n",
      "Online:  {'2021/9/9 22:1': []}\n",
      "offline:  {'2021/9/9 22:1': ['Abhi', 'Meet', 'Paras', 'Prashant', 'Sahil']}\n",
      "[]\n",
      "Online:  {'2021/9/9 22:1': []}\n",
      "offline:  {'2021/9/9 22:1': ['Abhi', 'Meet', 'Paras', 'Prashant', 'Sahil']}\n",
      "[]\n",
      "Online:  {'2021/9/9 22:1': []}\n",
      "offline:  {'2021/9/9 22:1': ['Abhi', 'Meet', 'Paras', 'Prashant', 'Sahil']}\n",
      "[]\n",
      "Online:  {'2021/9/9 22:1': []}\n",
      "offline:  {'2021/9/9 22:1': ['Abhi', 'Meet', 'Paras', 'Prashant', 'Sahil']}\n",
      "[]\n",
      "Online:  {'2021/9/9 22:1': []}\n",
      "offline:  {'2021/9/9 22:1': ['Abhi', 'Meet', 'Paras', 'Prashant', 'Sahil']}\n",
      "[]\n",
      "Online:  {'2021/9/9 22:1': []}\n"
     ]
    },
    {
     "name": "stdout",
     "output_type": "stream",
     "text": [
      "offline:  {'2021/9/9 22:1': ['Abhi', 'Meet', 'Paras', 'Prashant', 'Sahil']}\n",
      "[]\n",
      "Online:  {'2021/9/9 22:1': []}\n",
      "offline:  {'2021/9/9 22:1': ['Abhi', 'Meet', 'Paras', 'Prashant', 'Sahil']}\n",
      "[]\n",
      "Online:  {'2021/9/9 22:1': []}\n",
      "offline:  {'2021/9/9 22:1': ['Abhi', 'Meet', 'Paras', 'Prashant', 'Sahil']}\n",
      "[]\n",
      "Online:  {'2021/9/9 22:1': []}\n",
      "offline:  {'2021/9/9 22:1': ['Abhi', 'Meet', 'Paras', 'Prashant', 'Sahil']}\n",
      "[]\n",
      "Online:  {'2021/9/9 22:1': []}\n",
      "offline:  {'2021/9/9 22:1': ['Abhi', 'Meet', 'Paras', 'Prashant', 'Sahil']}\n",
      "[]\n",
      "Online:  {'2021/9/9 22:1': []}\n",
      "offline:  {'2021/9/9 22:1': ['Abhi', 'Meet', 'Paras', 'Prashant', 'Sahil']}\n",
      "[]\n",
      "Online:  {'2021/9/9 22:1': []}\n",
      "offline:  {'2021/9/9 22:1': ['Abhi', 'Meet', 'Paras', 'Prashant', 'Sahil']}\n",
      "[]\n",
      "Online:  {'2021/9/9 22:1': []}\n",
      "offline:  {'2021/9/9 22:1': ['Abhi', 'Meet', 'Paras', 'Prashant', 'Sahil']}\n",
      "[]\n",
      "Online:  {'2021/9/9 22:1': []}\n",
      "offline:  {'2021/9/9 22:1': ['Abhi', 'Meet', 'Paras', 'Prashant', 'Sahil']}\n",
      "[]\n",
      "Online:  {'2021/9/9 22:1': []}\n",
      "offline:  {'2021/9/9 22:1': ['Abhi', 'Meet', 'Paras', 'Prashant', 'Sahil']}\n",
      "[]\n",
      "Online:  {'2021/9/9 22:1': []}\n",
      "offline:  {'2021/9/9 22:1': ['Abhi', 'Meet', 'Paras', 'Prashant', 'Sahil']}\n",
      "[]\n",
      "Online:  {'2021/9/9 22:1': []}\n",
      "offline:  {'2021/9/9 22:1': ['Abhi', 'Meet', 'Paras', 'Prashant', 'Sahil']}\n",
      "[]\n",
      "Online:  {'2021/9/9 22:1': []}\n",
      "offline:  {'2021/9/9 22:1': ['Abhi', 'Meet', 'Paras', 'Prashant', 'Sahil']}\n",
      "[]\n",
      "Online:  {'2021/9/9 22:1': []}\n",
      "offline:  {'2021/9/9 22:1': ['Abhi', 'Meet', 'Paras', 'Prashant', 'Sahil']}\n",
      "[]\n",
      "Online:  {'2021/9/9 22:1': []}\n",
      "offline:  {'2021/9/9 22:1': ['Abhi', 'Meet', 'Paras', 'Prashant', 'Sahil']}\n",
      "[]\n",
      "Online:  {'2021/9/9 22:1': []}\n",
      "offline:  {'2021/9/9 22:1': ['Abhi', 'Meet', 'Paras', 'Prashant', 'Sahil']}\n",
      "[]\n",
      "Online:  {'2021/9/9 22:1': []}\n",
      "offline:  {'2021/9/9 22:1': ['Abhi', 'Meet', 'Paras', 'Prashant', 'Sahil']}\n",
      "[]\n",
      "Online:  {'2021/9/9 22:1': []}\n",
      "offline:  {'2021/9/9 22:1': ['Abhi', 'Meet', 'Paras', 'Prashant', 'Sahil']}\n",
      "[]\n",
      "Online:  {'2021/9/9 22:1': []}\n",
      "offline:  {'2021/9/9 22:1': ['Abhi', 'Meet', 'Paras', 'Prashant', 'Sahil']}\n",
      "[]\n",
      "Online:  {'2021/9/9 22:1': []}\n",
      "offline:  {'2021/9/9 22:1': ['Abhi', 'Meet', 'Paras', 'Prashant', 'Sahil']}\n",
      "[]\n",
      "Online:  {'2021/9/9 22:1': []}\n",
      "offline:  {'2021/9/9 22:1': ['Abhi', 'Meet', 'Paras', 'Prashant', 'Sahil']}\n",
      "[]\n",
      "Online:  {'2021/9/9 22:1': []}\n",
      "offline:  {'2021/9/9 22:1': ['Abhi', 'Meet', 'Paras', 'Prashant', 'Sahil']}\n",
      "[]\n",
      "Online:  {'2021/9/9 22:1': []}\n",
      "offline:  {'2021/9/9 22:1': ['Abhi', 'Meet', 'Paras', 'Prashant', 'Sahil']}\n",
      "[]\n",
      "Online:  {'2021/9/9 22:1': []}\n",
      "offline:  {'2021/9/9 22:1': ['Abhi', 'Meet', 'Paras', 'Prashant', 'Sahil']}\n",
      "[]\n",
      "Online:  {'2021/9/9 22:1': []}\n",
      "offline:  {'2021/9/9 22:1': ['Abhi', 'Meet', 'Paras', 'Prashant', 'Sahil']}\n",
      "[]\n",
      "Online:  {'2021/9/9 22:1': []}\n",
      "offline:  {'2021/9/9 22:1': ['Abhi', 'Meet', 'Paras', 'Prashant', 'Sahil']}\n",
      "[]\n",
      "Online:  {'2021/9/9 22:1': []}\n",
      "offline:  {'2021/9/9 22:1': ['Abhi', 'Meet', 'Paras', 'Prashant', 'Sahil']}\n",
      "[]\n",
      "Online:  {'2021/9/9 22:1': []}\n",
      "offline:  {'2021/9/9 22:1': ['Abhi', 'Meet', 'Paras', 'Prashant', 'Sahil']}\n",
      "[]\n",
      "Online:  {'2021/9/9 22:1': []}\n",
      "offline:  {'2021/9/9 22:1': ['Abhi', 'Meet', 'Paras', 'Prashant', 'Sahil']}\n",
      "[]\n",
      "Online:  {'2021/9/9 22:1': []}\n",
      "offline:  {'2021/9/9 22:1': ['Abhi', 'Meet', 'Paras', 'Prashant', 'Sahil']}\n",
      "[]\n",
      "Online:  {'2021/9/9 22:1': []}\n",
      "offline:  {'2021/9/9 22:1': ['Abhi', 'Meet', 'Paras', 'Prashant', 'Sahil']}\n",
      "[]\n",
      "Online:  {'2021/9/9 22:1': []}\n",
      "offline:  {'2021/9/9 22:1': ['Abhi', 'Meet', 'Paras', 'Prashant', 'Sahil']}\n",
      "[]\n",
      "Online:  {'2021/9/9 22:1': []}\n",
      "offline:  {'2021/9/9 22:1': ['Abhi', 'Meet', 'Paras', 'Prashant', 'Sahil']}\n",
      "[]\n",
      "Online:  {'2021/9/9 22:1': []}\n",
      "offline:  {'2021/9/9 22:1': ['Abhi', 'Meet', 'Paras', 'Prashant', 'Sahil']}\n",
      "[]\n",
      "Online:  {'2021/9/9 22:1': []}\n",
      "offline:  {'2021/9/9 22:1': ['Abhi', 'Meet', 'Paras', 'Prashant', 'Sahil']}\n",
      "[]\n",
      "Online:  {'2021/9/9 22:1': []}\n",
      "offline:  {'2021/9/9 22:1': ['Abhi', 'Meet', 'Paras', 'Prashant', 'Sahil']}\n",
      "[]\n",
      "Online:  {'2021/9/9 22:1': []}\n",
      "offline:  {'2021/9/9 22:1': ['Abhi', 'Meet', 'Paras', 'Prashant', 'Sahil']}\n",
      "[]\n",
      "Online:  {'2021/9/9 22:1': []}\n",
      "offline:  {'2021/9/9 22:1': ['Abhi', 'Meet', 'Paras', 'Prashant', 'Sahil']}\n",
      "[]\n",
      "Online:  {'2021/9/9 22:1': []}\n",
      "offline:  {'2021/9/9 22:1': ['Abhi', 'Meet', 'Paras', 'Prashant', 'Sahil']}\n",
      "[]\n",
      "Online:  {'2021/9/9 22:1': []}\n",
      "offline:  {'2021/9/9 22:1': ['Abhi', 'Meet', 'Paras', 'Prashant', 'Sahil']}\n",
      "[]\n",
      "Online:  {'2021/9/9 22:1': []}\n",
      "offline:  {'2021/9/9 22:1': ['Abhi', 'Meet', 'Paras', 'Prashant', 'Sahil']}\n",
      "['Meet']\n",
      "Online:  {'2021/9/9 22:1': ['Meet']}\n",
      "offline:  {'2021/9/9 22:1': ['Abhi', 'Paras', 'Prashant', 'Sahil']}\n",
      "['Paras']\n",
      "Online:  {'2021/9/9 22:1': ['Paras']}\n",
      "offline:  {'2021/9/9 22:1': ['Abhi', 'Meet', 'Prashant', 'Sahil']}\n"
     ]
    }
   ],
   "source": [
    "# reading video and detecting people in it\n",
    "cap = cv2.VideoCapture(0)\n",
    "results = {0:'Abhi', 1:'Meet', 2:'Paras', 3:'Prashant', 4:'Sahil'}\n",
    "online = {}\n",
    "offline = {}\n",
    "\n",
    "fa_img = np.zeros((n,256,256,3),dtype=np.float32)\n",
    "i = 0\n",
    "while True:\n",
    "    \n",
    "    #read each frame of the video and convert it to gray\n",
    "    ret, img = cap.read()\n",
    "    gray = cv2.cvtColor(img, cv2.COLOR_BGR2GRAY)\n",
    "    \n",
    "    # Find faces in image using classifier\n",
    "    faces = face_cascade.detectMultiScale(gray, 1.1, 10)\n",
    "    \n",
    "    # Draw rectangle around the faces\n",
    "    on = []\n",
    "    for (x, y, w, h) in faces:\n",
    "        cv2.rectangle(img, (x, y), (x+w, y+h), (0, 255,255), 2)  \n",
    "        face_img = img[y:y + h, x:x + w]\n",
    "        face_img =  cv2.resize(face_img, (256,256), interpolation = cv2.INTER_AREA)\n",
    "        \n",
    "        fa_img[0,:,:,:] = face_img/255\n",
    "        \n",
    "        y_pred = model.predict(fa_img)\n",
    "        max_val = max(y_pred[0])\n",
    "        max_val_ind = int(list(y_pred[0]).index(max_val))\n",
    "        font = cv2.FONT_HERSHEY_TRIPLEX\n",
    "        cv2.putText(img,results[max_val_ind],(x,y-2), font, 0.8, (0,255,255)) \n",
    "        on.append(results[max_val_ind])\n",
    "    print(on)    \n",
    "    off = check_offline(on, results)\n",
    "    timestamp = get_timestamp()\n",
    "    online = {timestamp:on}\n",
    "    offline = {timestamp:off}\n",
    "    print(\"Online: \", online)\n",
    "    print(\"offline: \", offline)\n",
    "    #display image\n",
    "    cv2.imshow('img',img) \n",
    "\n",
    "    #if user pressed 'q' break\n",
    "    if cv2.waitKey(1) == ord('q'): # \n",
    "        break;\n",
    "\n",
    "cap.release() #turn off camera \n",
    "cv2.destroyAllWindows() #close all windows"
   ]
  },
  {
   "cell_type": "code",
   "execution_count": null,
   "metadata": {},
   "outputs": [],
   "source": []
  },
  {
   "cell_type": "code",
   "execution_count": 83,
   "metadata": {},
   "outputs": [],
   "source": [
    "\n",
    "def check_offline(online, results):\n",
    "    if online == []:\n",
    "        return list(results.values())\n",
    "    ret = []\n",
    "    for item in results:\n",
    "        if results[item] not in online:\n",
    "            ret.append(results[item])\n",
    "    return ret"
   ]
  },
  {
   "cell_type": "code",
   "execution_count": 57,
   "metadata": {},
   "outputs": [],
   "source": [
    "from datetime import datetime\n",
    "def get_timestamp():\n",
    "    dateTimeObj = datetime.now()\n",
    "    day = str(dateTimeObj.year)+ '/' + str(dateTimeObj.month) + '/' + str(dateTimeObj.day)\n",
    "    time = str(dateTimeObj.hour) + ':' + str(dateTimeObj.minute) \n",
    "    return (day + ' '+ time)  "
   ]
  },
  {
   "cell_type": "code",
   "execution_count": 82,
   "metadata": {},
   "outputs": [
    {
     "name": "stdout",
     "output_type": "stream",
     "text": [
      "['Abhi', 'Meet', 'Paras', 'Prashant', 'Sahil']\n"
     ]
    }
   ],
   "source": [
    "print(list(results.values()))"
   ]
  },
  {
   "cell_type": "code",
   "execution_count": 80,
   "metadata": {},
   "outputs": [
    {
     "ename": "SyntaxError",
     "evalue": "invalid syntax (<ipython-input-80-690f3cef08cd>, line 1)",
     "output_type": "error",
     "traceback": [
      "\u001b[1;36m  File \u001b[1;32m\"<ipython-input-80-690f3cef08cd>\"\u001b[1;36m, line \u001b[1;32m1\u001b[0m\n\u001b[1;33m    print(results[])\u001b[0m\n\u001b[1;37m                  ^\u001b[0m\n\u001b[1;31mSyntaxError\u001b[0m\u001b[1;31m:\u001b[0m invalid syntax\n"
     ]
    }
   ],
   "source": [
    "print(results[])"
   ]
  },
  {
   "cell_type": "code",
   "execution_count": null,
   "metadata": {},
   "outputs": [],
   "source": []
  },
  {
   "cell_type": "code",
   "execution_count": null,
   "metadata": {},
   "outputs": [],
   "source": []
  }
 ],
 "metadata": {
  "kernelspec": {
   "display_name": "Python 3",
   "language": "python",
   "name": "python3"
  },
  "language_info": {
   "codemirror_mode": {
    "name": "ipython",
    "version": 3
   },
   "file_extension": ".py",
   "mimetype": "text/x-python",
   "name": "python",
   "nbconvert_exporter": "python",
   "pygments_lexer": "ipython3",
   "version": "3.7.7"
  }
 },
 "nbformat": 4,
 "nbformat_minor": 4
}
